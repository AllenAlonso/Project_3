{
 "cells": [
  {
   "cell_type": "code",
   "execution_count": 1,
   "id": "09720ba4",
   "metadata": {},
   "outputs": [],
   "source": [
    "import matplotlib.pyplot as plt\n",
    "import pandas as pd\n",
    "import scipy.stats as st\n",
    "from scipy.stats import linregress"
   ]
  },
  {
   "cell_type": "code",
   "execution_count": 2,
   "id": "b0d0060f",
   "metadata": {},
   "outputs": [],
   "source": [
    "df_2017 = pd.read_csv('data_unclean/2017.csv')\n",
    "df_2018 = pd.read_csv('data_unclean/2018.csv')\n",
    "df_2019 = pd.read_csv('data_unclean/2019.csv')\n",
    "df_2021 = pd.read_csv('data_unclean/2021.csv')\n",
    "df_2022 = pd.read_csv('data_unclean/2022.csv')"
   ]
  },
  {
   "cell_type": "code",
   "execution_count": 3,
   "id": "efbd4dad",
   "metadata": {},
   "outputs": [
    {
     "data": {
      "text/plain": [
       "648"
      ]
     },
     "execution_count": 3,
     "metadata": {},
     "output_type": "execute_result"
    }
   ],
   "source": [
    "merged_df = pd.concat([df_2017, df_2018])\n",
    "len(merged_df)"
   ]
  },
  {
   "cell_type": "code",
   "execution_count": 4,
   "id": "3fa29cf9",
   "metadata": {
    "scrolled": true
   },
   "outputs": [
    {
     "data": {
      "text/plain": [
       "975"
      ]
     },
     "execution_count": 4,
     "metadata": {},
     "output_type": "execute_result"
    }
   ],
   "source": [
    "merged_df = pd.concat([merged_df, df_2019])\n",
    "len(merged_df)"
   ]
  },
  {
   "cell_type": "code",
   "execution_count": 5,
   "id": "50961966",
   "metadata": {},
   "outputs": [
    {
     "data": {
      "text/plain": [
       "1297"
      ]
     },
     "execution_count": 5,
     "metadata": {},
     "output_type": "execute_result"
    }
   ],
   "source": [
    "merged_df = pd.concat([merged_df, df_2021])\n",
    "len(merged_df)"
   ]
  },
  {
   "cell_type": "code",
   "execution_count": 6,
   "id": "3cacd714",
   "metadata": {},
   "outputs": [
    {
     "data": {
      "text/plain": [
       "1622"
      ]
     },
     "execution_count": 6,
     "metadata": {},
     "output_type": "execute_result"
    }
   ],
   "source": [
    "merged_df = pd.concat([merged_df, df_2022])\n",
    "len(merged_df)"
   ]
  },
  {
   "cell_type": "code",
   "execution_count": 7,
   "id": "40c59a71",
   "metadata": {},
   "outputs": [],
   "source": [
    "selected_columns = ['player name', 'school', 'source', 'hilvl', 'year']\n",
    "merged_df = merged_df[selected_columns]"
   ]
  },
  {
   "cell_type": "code",
   "execution_count": 8,
   "id": "74b30fff",
   "metadata": {},
   "outputs": [],
   "source": [
    "merged_df.columns = ['Player Name', 'School', 'Source', 'High Level', 'Year']"
   ]
  },
  {
   "cell_type": "code",
   "execution_count": 9,
   "id": "3ea6f399",
   "metadata": {},
   "outputs": [],
   "source": [
    "merged_df = merged_df.dropna(subset=['Player Name', 'School', 'Source', 'High Level', 'Year'])"
   ]
  },
  {
   "cell_type": "code",
   "execution_count": 10,
   "id": "454066af",
   "metadata": {},
   "outputs": [],
   "source": [
    "merged_df = merged_df.reset_index(drop=True)"
   ]
  },
  {
   "cell_type": "code",
   "execution_count": 40,
   "id": "73f126eb",
   "metadata": {},
   "outputs": [
    {
     "data": {
      "text/plain": [
       "1572"
      ]
     },
     "execution_count": 40,
     "metadata": {},
     "output_type": "execute_result"
    }
   ],
   "source": [
    "len(merged_df)"
   ]
  },
  {
   "cell_type": "code",
   "execution_count": 49,
   "id": "ea0e0045",
   "metadata": {},
   "outputs": [],
   "source": [
    "hs_schools = merged_df.loc[merged_df['Source'] == 'HS']\n",
    "hs_df = hs_schools[[\"School\"]].drop_duplicates(subset = ['School'])\n",
    "\n",
    "\n",
    "hs_df.to_csv('data_unclean/HS_list.csv')"
   ]
  },
  {
   "cell_type": "code",
   "execution_count": 56,
   "id": "9571a237",
   "metadata": {},
   "outputs": [],
   "source": [
    "co_schools = merged_df.loc[merged_df['Source'] == 'College']\n",
    "co_df = co_schools[[\"School\"]].drop_duplicates(subset = ['School'])\n",
    "\n",
    "co_df.to_csv('data_unclean/CO_list.csv')"
   ]
  },
  {
   "cell_type": "code",
   "execution_count": null,
   "id": "7ef2bd8e",
   "metadata": {},
   "outputs": [],
   "source": []
  }
 ],
 "metadata": {
  "kernelspec": {
   "display_name": "Python 3 (ipykernel)",
   "language": "python",
   "name": "python3"
  },
  "language_info": {
   "codemirror_mode": {
    "name": "ipython",
    "version": 3
   },
   "file_extension": ".py",
   "mimetype": "text/x-python",
   "name": "python",
   "nbconvert_exporter": "python",
   "pygments_lexer": "ipython3",
   "version": "3.9.13"
  }
 },
 "nbformat": 4,
 "nbformat_minor": 5
}
